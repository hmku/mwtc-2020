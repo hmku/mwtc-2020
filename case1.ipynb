{
  "nbformat": 4,
  "nbformat_minor": 0,
  "metadata": {
    "colab": {
      "name": "case1.ipynb",
      "provenance": [],
      "collapsed_sections": [],
      "include_colab_link": true
    },
    "kernelspec": {
      "name": "python3",
      "display_name": "Python 3"
    }
  },
  "cells": [
    {
      "cell_type": "markdown",
      "metadata": {
        "id": "view-in-github",
        "colab_type": "text"
      },
      "source": [
        "<a href=\"https://colab.research.google.com/github/hmku/mwtc-2020/blob/master/case1.ipynb\" target=\"_parent\"><img src=\"https://colab.research.google.com/assets/colab-badge.svg\" alt=\"Open In Colab\"/></a>"
      ]
    },
    {
      "cell_type": "code",
      "metadata": {
        "id": "-rUaC-drzK3L",
        "colab_type": "code",
        "colab": {}
      },
      "source": [
        "import numpy as np\n",
        "import pandas as pd\n",
        "from statistics import stdev\n",
        "import matplotlib.pyplot as plt\n",
        "import math"
      ],
      "execution_count": 0,
      "outputs": []
    },
    {
      "cell_type": "code",
      "metadata": {
        "id": "4eTJYcOJzfxj",
        "colab_type": "code",
        "outputId": "ff28a84d-598b-4c23-ca7e-2baaa71d25c9",
        "colab": {
          "base_uri": "https://localhost:8080/",
          "height": 1000
        }
      },
      "source": [
        "files= [f'https://raw.githubusercontent.com/hmku/mwtc-2020/master/Case%201/Data/201{i}.csv' for i in range(10)]\n",
        "dfs = [pd.read_csv(file) for file in files]\n",
        "dfs"
      ],
      "execution_count": 0,
      "outputs": [
        {
          "output_type": "execute_result",
          "data": {
            "text/plain": [
              "[     Unnamed: 0  CONSUMPTION  AVG_PRICE\n",
              " 0    2010-01-01     0.000000   0.000000\n",
              " 1    2010-01-02     0.447285   2.000000\n",
              " 2    2010-01-03    14.339777   2.000000\n",
              " 3    2010-01-04    17.388527   2.000000\n",
              " 4    2010-01-05    28.372350   2.000000\n",
              " ..          ...          ...        ...\n",
              " 360  2010-12-27  3101.833943   4.351389\n",
              " 361  2010-12-28  3115.266012   4.359550\n",
              " 362  2010-12-29  3119.312399   4.368289\n",
              " 363  2010-12-30  3119.817324   4.370565\n",
              " 364  2010-12-31  3133.158850   4.377488\n",
              " \n",
              " [365 rows x 3 columns],      Unnamed: 0  CONSUMPTION  AVG_PRICE\n",
              " 0    2011-01-01     0.000000   0.000000\n",
              " 1    2011-01-02    10.684759   2.000000\n",
              " 2    2011-01-03    28.793249   2.000000\n",
              " 3    2011-01-04    35.432636   2.000000\n",
              " 4    2011-01-05    48.046479   2.000000\n",
              " ..          ...          ...        ...\n",
              " 360  2011-12-27  2762.251151   3.989012\n",
              " 361  2011-12-28  2764.176535   3.996046\n",
              " 362  2011-12-29  2766.131610   3.997986\n",
              " 363  2011-12-30  2772.557492   4.002176\n",
              " 364  2011-12-31  2772.925580   4.005573\n",
              " \n",
              " [365 rows x 3 columns],      Unnamed: 0  CONSUMPTION  AVG_PRICE\n",
              " 0    2012-01-01     0.000000   0.000000\n",
              " 1    2012-01-02    22.931186   2.000000\n",
              " 2    2012-01-03    39.751235   2.000000\n",
              " 3    2012-01-04    44.678133   2.000000\n",
              " 4    2012-01-05    66.328458   2.000000\n",
              " ..          ...          ...        ...\n",
              " 361  2012-12-27  2949.235180   4.167748\n",
              " 362  2012-12-28  2957.424093   4.173034\n",
              " 363  2012-12-29  2962.652028   4.179743\n",
              " 364  2012-12-30  2974.655404   4.188358\n",
              " 365  2012-12-31  3004.538050   4.209301\n",
              " \n",
              " [366 rows x 3 columns],      Unnamed: 0  CONSUMPTION  AVG_PRICE\n",
              " 0    2013-01-01     0.000000   0.000000\n",
              " 1    2013-01-02     2.002354   2.000000\n",
              " 2    2013-01-03     5.279014   2.000000\n",
              " 3    2013-01-04     8.488832   2.000000\n",
              " 4    2013-01-05    18.505655   2.000000\n",
              " ..          ...          ...        ...\n",
              " 360  2013-12-27  3012.047466   4.211337\n",
              " 361  2013-12-28  3016.221504   4.213702\n",
              " 362  2013-12-29  3019.587359   4.217472\n",
              " 363  2013-12-30  3020.526605   4.219625\n",
              " 364  2013-12-31  3046.225615   4.232944\n",
              " \n",
              " [365 rows x 3 columns],      Unnamed: 0  CONSUMPTION  AVG_PRICE\n",
              " 0    2014-01-01     0.000000   0.000000\n",
              " 1    2014-01-02     3.755643   2.000000\n",
              " 2    2014-01-03     9.774534   2.000000\n",
              " 3    2014-01-04    16.910879   2.000000\n",
              " 4    2014-01-05    36.908334   2.000000\n",
              " ..          ...          ...        ...\n",
              " 360  2014-12-27  3027.868254   4.211150\n",
              " 361  2014-12-28  3031.659499   4.215797\n",
              " 362  2014-12-29  3046.157631   4.224941\n",
              " 363  2014-12-30  3056.881599   4.237552\n",
              " 364  2014-12-31  3080.230821   4.254589\n",
              " \n",
              " [365 rows x 3 columns],      Unnamed: 0  CONSUMPTION  AVG_PRICE\n",
              " 0    2015-01-01     0.000000   0.000000\n",
              " 1    2015-01-02     1.345791   2.000000\n",
              " 2    2015-01-03    18.509019   2.000000\n",
              " 3    2015-01-04    22.605156   2.000000\n",
              " 4    2015-01-05    27.924033   2.000000\n",
              " ..          ...          ...        ...\n",
              " 360  2015-12-27  2634.076357   3.785803\n",
              " 361  2015-12-28  2640.152175   3.791120\n",
              " 362  2015-12-29  2643.735574   3.795950\n",
              " 363  2015-12-30  2646.753218   3.799250\n",
              " 364  2015-12-31  2652.882227   3.803823\n",
              " \n",
              " [365 rows x 3 columns],      Unnamed: 0  CONSUMPTION  AVG_PRICE\n",
              " 0    2016-01-01     0.000000   0.000000\n",
              " 1    2016-01-02    20.588540   2.000000\n",
              " 2    2016-01-03    24.956799   2.000000\n",
              " 3    2016-01-04    25.111638   2.000000\n",
              " 4    2016-01-05    52.797987   2.000000\n",
              " ..          ...          ...        ...\n",
              " 361  2016-12-27  2765.860266   3.909084\n",
              " 362  2016-12-28  2767.746912   3.910823\n",
              " 363  2016-12-29  2788.661400   3.922223\n",
              " 364  2016-12-30  2801.429082   3.939064\n",
              " 365  2016-12-31  2810.248840   3.949858\n",
              " \n",
              " [366 rows x 3 columns],      Unnamed: 0  CONSUMPTION  AVG_PRICE\n",
              " 0    2017-01-01     0.000000   0.000000\n",
              " 1    2017-01-02     1.815806   2.000000\n",
              " 2    2017-01-03     2.990369   2.000000\n",
              " 3    2017-01-04    15.713353   2.000000\n",
              " 4    2017-01-05    20.988462   2.000000\n",
              " ..          ...          ...        ...\n",
              " 360  2017-12-27  2798.022232   3.927835\n",
              " 361  2017-12-28  2807.772878   3.934908\n",
              " 362  2017-12-29  2819.271633   3.945533\n",
              " 363  2017-12-30  2820.887808   3.952090\n",
              " 364  2017-12-31  2835.517090   3.960213\n",
              " \n",
              " [365 rows x 3 columns],      Unnamed: 0  CONSUMPTION  AVG_PRICE\n",
              " 0    2018-01-01     0.000000   0.000000\n",
              " 1    2018-01-02     1.343831   2.000000\n",
              " 2    2018-01-03    16.428596   2.000000\n",
              " 3    2018-01-04    20.690831   2.000000\n",
              " 4    2018-01-05    40.088405   2.000000\n",
              " ..          ...          ...        ...\n",
              " 360  2018-12-27  2741.815649   3.852351\n",
              " 361  2018-12-28  2758.755440   3.865599\n",
              " 362  2018-12-29  2763.087802   3.876235\n",
              " 363  2018-12-30  2777.878387   3.885797\n",
              " 364  2018-12-31  2802.875961   3.905691\n",
              " \n",
              " [365 rows x 3 columns],      Unnamed: 0  CONSUMPTION  AVG_PRICE\n",
              " 0    2019-01-01     0.000000   0.000000\n",
              " 1    2019-01-02     9.766812   2.000000\n",
              " 2    2019-01-03    11.779827   2.000000\n",
              " 3    2019-01-04    21.626172   2.000000\n",
              " 4    2019-01-05    27.630391   2.000000\n",
              " ..          ...          ...        ...\n",
              " 360  2019-12-27  2893.284281   3.987265\n",
              " 361  2019-12-28  2896.555691   3.989246\n",
              " 362  2019-12-29  2899.643124   3.992426\n",
              " 363  2019-12-30  2901.899507   3.995098\n",
              " 364  2019-12-31  2942.376946   4.016465\n",
              " \n",
              " [365 rows x 3 columns]]"
            ]
          },
          "metadata": {
            "tags": []
          },
          "execution_count": 14
        }
      ]
    },
    {
      "cell_type": "code",
      "metadata": {
        "id": "xQW0MPeP1NjH",
        "colab_type": "code",
        "outputId": "44d83312-ddc5-4270-8770-325965a36d28",
        "colab": {
          "base_uri": "https://localhost:8080/",
          "height": 255
        }
      },
      "source": [
        "plt.plot(dfs[0]['CONSUMPTION'], dfs[0]['AVG_PRICE'])\n",
        "plt.gcf().autofmt_xdate()\n",
        "plt.show()"
      ],
      "execution_count": 0,
      "outputs": [
        {
          "output_type": "display_data",
          "data": {
            "image/png": "[encoded data removed]",
            "text/plain": [
              "<Figure size 432x288 with 1 Axes>"
            ]
          },
          "metadata": {
            "tags": []
          }
        }
      ]
    },
    {
      "cell_type": "code",
      "metadata": {
        "id": "DBfbRCaOJZzn",
        "colab_type": "code",
        "outputId": "44ee8738-d1ac-4b08-d0cc-d9311bb21656",
        "colab": {
          "base_uri": "https://localhost:8080/",
          "height": 238
        }
      },
      "source": [
        "ch = dfs[0]['AVG_PRICE'].diff()\n",
        "avg = dfs[0]['AVG_PRICE']\n",
        "df_filtered = dfs[0][avg < 3.01]\n",
        "df_filtered = df_filtered[ch != 0]\n",
        "\n",
        "df_filtered"
      ],
      "execution_count": 0,
      "outputs": [
        {
          "output_type": "stream",
          "text": [
            "/usr/local/lib/python3.6/dist-packages/ipykernel_launcher.py:4: UserWarning: Boolean Series key will be reindexed to match DataFrame index.\n",
            "  after removing the cwd from sys.path.\n"
          ],
          "name": "stderr"
        },
        {
          "output_type": "execute_result",
          "data": {
            "text/html": [
              "<div>\n",
              "<style scoped>\n",
              "    .dataframe tbody tr th:only-of-type {\n",
              "        vertical-align: middle;\n",
              "    }\n",
              "\n",
              "    .dataframe tbody tr th {\n",
              "        vertical-align: top;\n",
              "    }\n",
              "\n",
              "    .dataframe thead th {\n",
              "        text-align: right;\n",
              "    }\n",
              "</style>\n",
              "<table border=\"1\" class=\"dataframe\">\n",
              "  <thead>\n",
              "    <tr style=\"text-align: right;\">\n",
              "      <th></th>\n",
              "      <th>Unnamed: 0</th>\n",
              "      <th>CONSUMPTION</th>\n",
              "      <th>AVG_PRICE</th>\n",
              "    </tr>\n",
              "  </thead>\n",
              "  <tbody>\n",
              "    <tr>\n",
              "      <th>0</th>\n",
              "      <td>2010-01-01</td>\n",
              "      <td>0.000000</td>\n",
              "      <td>0.000000</td>\n",
              "    </tr>\n",
              "    <tr>\n",
              "      <th>1</th>\n",
              "      <td>2010-01-02</td>\n",
              "      <td>0.447285</td>\n",
              "      <td>2.000000</td>\n",
              "    </tr>\n",
              "    <tr>\n",
              "      <th>160</th>\n",
              "      <td>2010-06-10</td>\n",
              "      <td>1318.734240</td>\n",
              "      <td>2.540627</td>\n",
              "    </tr>\n",
              "    <tr>\n",
              "      <th>161</th>\n",
              "      <td>2010-06-11</td>\n",
              "      <td>1326.127237</td>\n",
              "      <td>3.000000</td>\n",
              "    </tr>\n",
              "    <tr>\n",
              "      <th>203</th>\n",
              "      <td>2010-07-23</td>\n",
              "      <td>1758.608405</td>\n",
              "      <td>3.001503</td>\n",
              "    </tr>\n",
              "  </tbody>\n",
              "</table>\n",
              "</div>"
            ],
            "text/plain": [
              "     Unnamed: 0  CONSUMPTION  AVG_PRICE\n",
              "0    2010-01-01     0.000000   0.000000\n",
              "1    2010-01-02     0.447285   2.000000\n",
              "160  2010-06-10  1318.734240   2.540627\n",
              "161  2010-06-11  1326.127237   3.000000\n",
              "203  2010-07-23  1758.608405   3.001503"
            ]
          },
          "metadata": {
            "tags": []
          },
          "execution_count": 41
        }
      ]
    }
  ]
}